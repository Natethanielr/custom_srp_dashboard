import numpy as np
import matplotlib.pyplot as plt
import pandas as pd


# import daily cost csv
df = pd.read_csv('dailyCost7_20_2025_to_8_19_2025.csv')
# drop last combined row 
df = df.drop(df.index[-1])
# import hourly cost csv
df1 = pd.read_csv('hourlyCost7_20_2025_to_8_19_2025.csv')
# convert usage date to pandas datetime
df['Usage date'] = pd.to_datetime(df['Usage date'])
# remove $ and covert to float
df['Total cost'] = df['Total cost'].replace({'\\$': '', ',': ''}, regex=True).astype(float)
# create a new column with the day of week
df['Day of week'] = df['Usage date'].dt.day_name()
print(df.dtypes)
df.head()


# create a list that assignes colors for the weekdays/weekends for Day of Week
colors = ['red' if day in ['Saturday', 'Sunday'] else 'blue' for day in df['Day of week']]
# initate figure and axis for plotting
fig, ax = plt.subplots(figsize = (10,5))
ax.bar(df['Usage date'], df['Total cost'], edgecolor = colors, color = 'steelblue', label = 'Total Cost')
# create a secondary axis on the same figure for the temperature
ax1 = ax.twinx()
ax1.plot(df['Usage date'], df['High temperature (F)'], 'k', ls = 'dotted', label = 'High temperature') 
ax.set_xlabel('Usage date')
ax.set_ylabel('Cost $')
#ax.set_ylim(0,8)
ax1.set_ylabel('Temperature')
ax1.set_ylim(20,120)
ax.legend()
ax1.legend()


# get the mean, max, min, and standard deviation of the data set
stat = df['Total cost'].agg(['mean', 'max', 'min', 'std'])
print(stat)
# create a data frame that contains the days that have above average energy use
above_average = df[df['Total cost'].ge(stat['mean'])]
# Group and count the days of week that are above average energy use
day_groups = above_average.groupby('Day of week')['Day of week'].value_counts()
# create new index to sort the days of week chronologically
days_order = ["Monday", "Tuesday", "Wednesday", "Thursday", "Friday", "Saturday", "Sunday"]
day_groups.index = pd.CategoricalIndex(day_groups.index, categories=days_order, ordered=True)
day_groups = day_groups.sort_index()
# bar graph of the days of week that are above average 
day_groups.plot(kind='bar', title='Number of times above average usage')


weekend_costs = df[df["Day of week"].isin(["Saturday", "Sunday"])]["Total cost"]
print(weekend_costs)


df1['Total cost'] = df1['Total cost'].replace({'\\$': '', ',': ''}, regex=True).astype(float)
df1["Datetime"] = pd.to_datetime(df1["Usage date"] + " " + df1["Interval"], format="%m/%d/%Y %I:%M %p")
df1['Day of week'] = df1['Datetime'].dt.day_name()
df1['Usage date'] = pd.to_datetime(df1['Usage date'])

fig, ax = plt.subplots(figsize = (15,10))
ax.plot(df1['Datetime'], df1['Total cost'])
df1.head()


max = df.loc[df['Total cost'] == df['Total cost'].max()]
max_date = max['Usage date'].iloc[0]
print(max_date)


max_day = df1.loc[df1['Usage date'] == max_date]
max_day.plot.bar(x= 'Datetime', y='Total cost')


above_average1 = df[df['Total cost'].ge(stat['mean'] + 1)].reset_index()
above_average1


day0 = df1.loc[df1['Usage date'] == above_average1['Usage date'][0]]
day0.plot.bar(x= 'Datetime', y='Total cost')







