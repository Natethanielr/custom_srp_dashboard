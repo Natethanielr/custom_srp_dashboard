import numpy as np
import matplotlib.pyplot as plt
import pandas as pd


gdp = pd.read_csv('GDP.csv')
pce = pd.read_csv('PCE.csv')


gdp.head()


pce.head()



